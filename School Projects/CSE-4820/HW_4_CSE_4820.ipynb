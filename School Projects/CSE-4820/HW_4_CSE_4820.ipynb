# Importing necessary libraries
import seaborn as sns
import pandas as pd
from sklearn.model_selection import train_test_split
from sklearn.linear_model import LogisticRegression
from sklearn.metrics import accuracy_score, confusion_matrix
from sklearn.model_selection import cross_val_score

# Load the iris dataset
iris = sns.load_dataset('iris')

# Filter out the 'virginica' class, keeping only 'setosa' and 'versicolor'
iris_filtered = iris[iris['species'].isin(['setosa', 'versicolor'])]

# Create feature matrix X and target vector y
X = iris_filtered.drop(columns=['species'])
y = iris_filtered['species']

# Perform stratified partitioning of the data (70% training, 30% testing)
X_train, X_test, y_train, y_test = train_test_split(X, y, test_size=0.3, stratify=y, random_state=42)

# Initialize and train the logistic regression model
model = LogisticRegression(max_iter=200)
model.fit(X_train, y_train)

# Make predictions on the test set
y_pred = model.predict(X_test)

# Calculate the classification accuracy
accuracy = accuracy_score(y_test, y_pred)

# Generate confusion matrix
conf_matrix = confusion_matrix(y_test, y_pred)

# Perform cross-validation with 5 folds
cv_scores = cross_val_score(model, X, y, cv=5)

# Display results
print("Confusion Matrix:")
print(conf_matrix)
print("\nTest Accuracy:", accuracy)
print("\nCross-Validation Accuracy (5-fold):", cv_scores.mean())

# Display the ground truth and predicted labels
results_df = pd.DataFrame({'Ground Truth': y_test, 'Predicted': y_pred})
print("\nGround Truth vs Predicted Labels:")
print(results_df)
